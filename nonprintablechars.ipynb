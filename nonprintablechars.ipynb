{
  "nbformat": 4,
  "nbformat_minor": 0,
  "metadata": {
    "colab": {
      "provenance": [],
      "authorship_tag": "ABX9TyNTWFi3dEHNt7y3304XEjUT",
      "include_colab_link": true
    },
    "kernelspec": {
      "name": "python3",
      "display_name": "Python 3"
    },
    "language_info": {
      "name": "python"
    }
  },
  "cells": [
    {
      "cell_type": "markdown",
      "metadata": {
        "id": "view-in-github",
        "colab_type": "text"
      },
      "source": [
        "<a href=\"https://colab.research.google.com/github/kadlaon/utils/blob/main/nonprintablechars.ipynb\" target=\"_parent\"><img src=\"https://colab.research.google.com/assets/colab-badge.svg\" alt=\"Open In Colab\"/></a>"
      ]
    },
    {
      "cell_type": "code",
      "execution_count": 3,
      "metadata": {
        "id": "SbUK0JWlWaIx"
      },
      "outputs": [],
      "source": [
        "#check for non-ascii characters\n",
        "!perl -ne 'print \"$. $_\" if m/[\\x80-\\xFF]/' /content/wikipedia.filipino.data > out.txt"
      ]
    },
    {
      "cell_type": "code",
      "source": [
        "#count number of occurences\n",
        "with open(r\"out.txt\", 'r') as fp:\n",
        "    lines = len(fp.readlines())\n",
        "    print('Total Number of lines:', lines)"
      ],
      "metadata": {
        "id": "gXjMEksLpLg6"
      },
      "execution_count": null,
      "outputs": []
    }
  ]
}